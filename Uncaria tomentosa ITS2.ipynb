{
 "cells": [
  {
   "cell_type": "code",
   "execution_count": 2,
   "id": "3e5d65f5-374c-4ada-81c5-2ddb56021498",
   "metadata": {},
   "outputs": [
    {
     "name": "stdout",
     "output_type": "stream",
     "text": [
      "{'Count': '1', 'RetMax': '1', 'RetStart': '0', 'IdList': ['297557431'], 'TranslationSet': [{'From': 'Uncaria tomentosa', 'To': '\"Uncaria tomentosa\"[Organism] OR Uncaria tomentosa[All Fields]'}], 'TranslationStack': [{'Term': '\"Uncaria tomentosa\"[Organism]', 'Field': 'Organism', 'Count': '29', 'Explode': 'Y'}, {'Term': 'Uncaria tomentosa[All Fields]', 'Field': 'All Fields', 'Count': '31', 'Explode': 'N'}, 'OR', 'GROUP', {'Term': 'ITS2[All Fields]', 'Field': 'All Fields', 'Count': '779445', 'Explode': 'N'}, 'AND', 'GROUP'], 'QueryTranslation': '(\"Uncaria tomentosa\"[Organism] OR Uncaria tomentosa[All Fields]) AND ITS2[All Fields]'}\n"
     ]
    }
   ],
   "source": [
    "from Bio import Entrez \n",
    "Entrez.email = \"nailasm23@gmail.com\" \n",
    "\n",
    "#creating handle\n",
    "handle = Entrez.esearch(db=\"nuccore\" , term=\"Uncaria tomentosa ITS2\")\n",
    "record = Entrez.read(handle)\n",
    "print(record)\n",
    "handle.close()"
   ]
  },
  {
   "cell_type": "code",
   "execution_count": 3,
   "id": "f2afc5af-1526-4a5e-a295-9ac7b466dced",
   "metadata": {},
   "outputs": [
    {
     "name": "stdout",
     "output_type": "stream",
     "text": [
      "LOCUS       GQ852159                 599 bp    DNA     linear   PLN 09-JUN-2010\n",
      "DEFINITION  Uncaria tomentosa internal transcribed spacer 1, partial sequence;\n",
      "            5.8S ribosomal RNA gene, complete sequence; and internal\n",
      "            transcribed spacer 2, partial sequence.\n",
      "ACCESSION   GQ852159\n",
      "VERSION     GQ852159.1\n",
      "KEYWORDS    .\n",
      "SOURCE      Uncaria tomentosa\n",
      "  ORGANISM  Uncaria tomentosa\n",
      "            Eukaryota; Viridiplantae; Streptophyta; Embryophyta; Tracheophyta;\n",
      "            Spermatophyta; Magnoliopsida; eudicotyledons; Gunneridae;\n",
      "            Pentapetalae; asterids; lamiids; Gentianales; Rubiaceae;\n",
      "            Cinchonoideae; Naucleeae; Uncaria.\n",
      "REFERENCE   1  (bases 1 to 599)\n",
      "  AUTHORS   Manns,U. and Bremer,B.\n",
      "  TITLE     Towards a better understanding of intertribal relationships and\n",
      "            stable tribal delimitations within Cinchonoideae s.s. (Rubiaceae)\n",
      "  JOURNAL   Mol. Phylogenet. Evol. 56 (1), 21-39 (2010)\n",
      "   PUBMED   20382247\n",
      "REFERENCE   2  (bases 1 to 599)\n",
      "  AUTHORS   Manns,U. and Bremer,B.\n",
      "  TITLE     Direct Submission\n",
      "  JOURNAL   Submitted (19-AUG-2009) Department of Botany, Stockholm University,\n",
      "            Bergius Foundation, Royal Swedish Academy of Sciences, Stockholm\n",
      "            SE-10691, Sweden\n",
      "FEATURES             Location/Qualifiers\n",
      "     source          1..599\n",
      "                     /organism=\"Uncaria tomentosa\"\n",
      "                     /mol_type=\"genomic DNA\"\n",
      "                     /specimen_voucher=\"Andersson et al. 2031 (GB)\"\n",
      "                     /db_xref=\"taxon:128375\"\n",
      "     misc_RNA        <1..227\n",
      "                     /product=\"internal transcribed spacer 1\"\n",
      "     rRNA            228..390\n",
      "                     /product=\"5.8S ribosomal RNA\"\n",
      "     misc_RNA        391..>599\n",
      "                     /product=\"internal transcribed spacer 2\"\n",
      "ORIGIN      \n",
      "        1 tcgaatcctg cgaaacgcac gaccgcgaac ctgtgtgaac aatcgggcgt cgggcggtaa\n",
      "       61 gggagactaa gccctccatt cccacccggc gctccccgcg cgcttgtcgc gcggaaaacg\n",
      "      121 taactcaaac ccggcgcgga acgcgccaag gaaaactcaa taggacagcc gggccctcga\n",
      "      181 tgccccgtac gcggtgtgct cggggtgctg tggcgcctgt cgtaatccaa acgactctcg\n",
      "      241 gcaacggata tctcggctct cgcatcgatg aagaacgtag cgaaatgcga tacttggtgt\n",
      "      301 gaattgcaga atcccgtgaa ccatcgagtc tttgaacgca agttgcgccc gaagccatca\n",
      "      361 ggcctagggc acgtctgcct gggcgtcacg catcgcgtcg ccgcccccac ctatcgtgtg\n",
      "      421 gggcggcgga tgttggcctc ccgtgccgtt tggcgcggcc ggcctaaacg agagtcctcg\n",
      "      481 gcgagggacg tcacgacgag tggtggttga atgccccgac tcgatttttg tcgtgccggt\n",
      "      541 tcccgtcgtc gtcttcggct ccatggatga ccctagtgcg cgatctgttg cagtcgcgc\n",
      "//\n",
      "\n",
      "\n"
     ]
    }
   ],
   "source": [
    "from Bio import Entrez \n",
    "Entrez.email = \"nailasm23@gmail.com\" \n",
    "\n",
    "#creating EFETCH handle\n",
    "efetch_handle = Entrez.efetch(db=\"nuccore\", id= \"297557431\", rettype=\"gb\",retmode=\"text\")\n",
    "gbrecord=efetch_handle.read()\n",
    "print(gbrecord)"
   ]
  },
  {
   "cell_type": "code",
   "execution_count": 4,
   "id": "814735de-41d7-4474-a968-230f78306a1c",
   "metadata": {},
   "outputs": [
    {
     "name": "stdout",
     "output_type": "stream",
     "text": [
      ">GQ852159.1 Uncaria tomentosa internal transcribed spacer 1, partial sequence; 5.8S ribosomal RNA gene, complete sequence; and internal transcribed spacer 2, partial sequence\n",
      "TCGAATCCTGCGAAACGCACGACCGCGAACCTGTGTGAACAATCGGGCGTCGGGCGGTAAGGGAGACTAA\n",
      "GCCCTCCATTCCCACCCGGCGCTCCCCGCGCGCTTGTCGCGCGGAAAACGTAACTCAAACCCGGCGCGGA\n",
      "ACGCGCCAAGGAAAACTCAATAGGACAGCCGGGCCCTCGATGCCCCGTACGCGGTGTGCTCGGGGTGCTG\n",
      "TGGCGCCTGTCGTAATCCAAACGACTCTCGGCAACGGATATCTCGGCTCTCGCATCGATGAAGAACGTAG\n",
      "CGAAATGCGATACTTGGTGTGAATTGCAGAATCCCGTGAACCATCGAGTCTTTGAACGCAAGTTGCGCCC\n",
      "GAAGCCATCAGGCCTAGGGCACGTCTGCCTGGGCGTCACGCATCGCGTCGCCGCCCCCACCTATCGTGTG\n",
      "GGGCGGCGGATGTTGGCCTCCCGTGCCGTTTGGCGCGGCCGGCCTAAACGAGAGTCCTCGGCGAGGGACG\n",
      "TCACGACGAGTGGTGGTTGAATGCCCCGACTCGATTTTTGTCGTGCCGGTTCCCGTCGTCGTCTTCGGCT\n",
      "CCATGGATGACCCTAGTGCGCGATCTGTTGCAGTCGCGC\n",
      "\n",
      "\n"
     ]
    }
   ],
   "source": [
    "from Bio import Entrez \n",
    "Entrez.email = \"nailasm23@gmail.com\" \n",
    "\n",
    "#creating EFETCH handle\n",
    "efetch_handle = Entrez.efetch(db=\"nuccore\", id= \"297557431\", rettype=\"fasta\",retmode=\"text\")\n",
    "gbrecord=efetch_handle.read()\n",
    "print(gbrecord)"
   ]
  },
  {
   "cell_type": "code",
   "execution_count": 5,
   "id": "8f9fccd0-c9cb-4ede-90db-ddce88f99f9b",
   "metadata": {},
   "outputs": [],
   "source": [
    "import os\n",
    "#creating EFetch handle\n",
    "filename = \"fasta seq Uncaria tormentosa ITS2.fas\"\n",
    "\n",
    "#creating Efetch handle\n",
    "if not os.path.isfile(filename):\n",
    "    #Downloading file\n",
    "    efetch_handle = Entrez.efetch(db=\"nuccore\" , id=\"297557431\" , rettype= \"fasta\", retmode= \"text\")\n",
    "    output_file_handle = open(filename, \"w\")\n",
    "    output_file_handle.write(efetch_handle.read())\n",
    "    output_file_handle.close()\n",
    "    efetch_handle.close()\n",
    "    print(\"FASTA Download\")"
   ]
  },
  {
   "cell_type": "code",
   "execution_count": 6,
   "id": "c117b226-bacb-4008-abff-a458ce04254d",
   "metadata": {},
   "outputs": [
    {
     "name": "stdout",
     "output_type": "stream",
     "text": [
      "GB Downloaded\n"
     ]
    }
   ],
   "source": [
    "#creating EFetch handle\n",
    "filename = \"fasta seq Uncaria tormentosa.gbk\"\n",
    "\n",
    "#creating Efetch handle\n",
    "if not os.path.isfile(filename):\n",
    "    #Downloading file\n",
    "    efetch_handle = Entrez.efetch(db=\"nuccore\" , id=\"297557431\" , rettype= \"gb\", retmode= \"text\")\n",
    "    output_file_handle = open(filename, \"w\")\n",
    "    output_file_handle.write(efetch_handle.read())\n",
    "    output_file_handle.close()\n",
    "    efetch_handle.close()\n",
    "    print(\"GB Downloaded\")"
   ]
  },
  {
   "cell_type": "code",
   "execution_count": 9,
   "id": "501b81ad-6ebc-48e1-b1c7-c8e82227b605",
   "metadata": {},
   "outputs": [
    {
     "name": "stdout",
     "output_type": "stream",
     "text": [
      ">ITS2|Uncaria tomentosa internal transcribed spacer 1, partial sequence; 5.8S ribosomal RNA gene, complete sequence; and internal transcribed spacer 2, partial sequence\n",
      "CATCGCGTCGCCGCCCCCACCTATCGTGTGGGGCGGCGGATGTTGGCCTCCCGTGCCGTTTGGCGCGGCCGGCCTAAACGAGAGTCCTCGGCGAGGGACGTCACGACGAGTGGTGGTTGAATGCCCCGACTCGATTTTTGTCGTGCCGGTTCCCGTCGTCGTCTTCGGCTCCATGGATGACCCTAGTGCGCGATCTGTTGCAGTCGCGC\n"
     ]
    }
   ],
   "source": [
    "from Bio import SeqIO\n",
    "\n",
    "GoI = \"ITS2\"\n",
    "for genome in SeqIO.parse(\"fasta seq Uncaria tormentosa.gbk\",\"genbank\"):\n",
    "    for gene in genome.features:\n",
    "        if gene.type != \"CDS\":\n",
    "            continue\n",
    "        if \"gene\" not in gene.qualifiers[\"gene\"][0]:\n",
    "                continue\n",
    "        if GoI not in gene.qualifiers[\"gene\"][0]:\n",
    "                    continue\n",
    "    gene_seq = gene.extract(genome.seq)\n",
    "                    \n",
    "GoI_fasta = \">%s|%s\\n%s\" % (GoI, genome.description, gene_seq)\n",
    "print(GoI_fasta)"
   ]
  },
  {
   "cell_type": "code",
   "execution_count": 10,
   "id": "432f0195-9a5a-4980-9838-e858af547c5f",
   "metadata": {},
   "outputs": [],
   "source": [
    "from Bio import SeqIO\n",
    "\n",
    "GoI = \"ITS2\"\n",
    "for genome in SeqIO.parse(\"fasta seq Uncaria tormentosa.gbk\",\"genbank\"):\n",
    "    for gene in genome.features:\n",
    "        if gene.type != \"CDS\":\n",
    "            continue\n",
    "        if \"gene\" not in gene.qualifiers[\"gene\"][0]:\n",
    "                continue\n",
    "        if GoI not in gene.qualifiers[\"gene\"][0]:\n",
    "                    continue\n",
    "    gene_seq = gene.extract(genome.seq)\n",
    "                    \n",
    "GoI_fasta = \">%s|%s\\n%s\" % (GoI, genome.description, gene_seq)\n",
    "with open(\"GoI_fasta.fasta\",\"w\") as f:\n",
    "    f.write(GoI_fasta)"
   ]
  },
  {
   "cell_type": "code",
   "execution_count": null,
   "id": "453abed7-85df-4e3b-be97-4c1f673053e4",
   "metadata": {},
   "outputs": [],
   "source": []
  }
 ],
 "metadata": {
  "kernelspec": {
   "display_name": "Python 3 (ipykernel)",
   "language": "python",
   "name": "python3"
  },
  "language_info": {
   "codemirror_mode": {
    "name": "ipython",
    "version": 3
   },
   "file_extension": ".py",
   "mimetype": "text/x-python",
   "name": "python",
   "nbconvert_exporter": "python",
   "pygments_lexer": "ipython3",
   "version": "3.9.7"
  }
 },
 "nbformat": 4,
 "nbformat_minor": 5
}
